{
 "cells": [
  {
   "cell_type": "markdown",
   "metadata": {},
   "source": [
    "### image recognization"
   ]
  },
  {
   "cell_type": "code",
   "execution_count": 77,
   "metadata": {},
   "outputs": [],
   "source": [
    "import numpy as np\n",
    "from glob import glob\n",
    "import cv2\n",
    "import matplotlib.pyplot as plt\n",
    "import pdb\n",
    "\n",
    "np.random.seed(0)\n",
    "# xs = np.array([[0,0],[0,1],[1,0],[1,1]],dtype=np.float32)\n",
    "# ts = np.array([[0],[1],[1],[0]],dtype=np.float32)"
   ]
  },
  {
   "cell_type": "code",
   "execution_count": 78,
   "metadata": {},
   "outputs": [],
   "source": [
    "def sigmoid(x):\n",
    "    return 1 / (1 + np.exp(-x))"
   ]
  },
  {
   "cell_type": "code",
   "execution_count": 89,
   "metadata": {},
   "outputs": [],
   "source": [
    "class FullyConnectedLayer():\n",
    "    def __init__(self, in_n, out_n, use_bias=True, activation=None):\n",
    "        self.w = np.random.normal(0, 1, [in_n, out_n])\n",
    "        if use_bias:\n",
    "            self.b = np.random.normal(0, 1, [out_n])\n",
    "        else:\n",
    "            self.b = None\n",
    "        if activation is not None:\n",
    "            self.activation = activation\n",
    "        else:\n",
    "            self.activation = None\n",
    "\n",
    "    def set_lr(self, lr=0.1):\n",
    "        self.lr = lr\n",
    "\n",
    "    def forward(self, feature_in):\n",
    "        self.f_in = feature_in\n",
    "        x = np.dot(feature_in, self.w)\n",
    "        \n",
    "        if self.b is not None:\n",
    "            x += self.b\n",
    "            \n",
    "        if self.activation is not None:\n",
    "            x = self.activation(x)\n",
    "        self.ys = x\n",
    "        \n",
    "        return x\n",
    "\n",
    "    \n",
    "    def backward(self, w_pro, grad_pro):\n",
    "        grad_u = np.dot(grad_pro, w_pro.T)\n",
    "        if self.activation is sigmoid:\n",
    "            grad_u *= (self.ys * (1 - self.ys))\n",
    "        grad_w = np.dot(self.f_in.T, grad_u)\n",
    "        self.w -= self.lr * grad_w\n",
    "\n",
    "        if self.b is not None:\n",
    "            grad_b = np.dot(np.ones([grad_u.shape[0]]), grad_u)\n",
    "            self.b -= self.lr * grad_b\n",
    "\n",
    "        return grad_u"
   ]
  },
  {
   "cell_type": "code",
   "execution_count": 97,
   "metadata": {},
   "outputs": [],
   "source": [
    "class Model():\n",
    "    def __init__(self, *args, lr=0.1):\n",
    "        self.layers = args\n",
    "        for l in self.layers:\n",
    "            l.set_lr(lr=lr)\n",
    "\n",
    "    def forward(self, x):\n",
    "        for l in self.layers:\n",
    "            x = l.forward(x)\n",
    "        self.ys = x\n",
    "        \n",
    "        return x\n",
    "\n",
    "    def backward(self, t):\n",
    "        En = -(t - self.ys) * self.ys * (1 - self.ys)\n",
    "        grad_pro = En\n",
    "        w_pro = np.eye(En.shape[-1])\n",
    "        \n",
    "        for i, l in enumerate(self.layers[::-1]):\n",
    "            grad_pro = l.backward(w_pro=w_pro, grad_pro=grad_pro)\n",
    "            w_pro = l.w\n",
    "\n",
    "\n",
    "    def loss(self, t):\n",
    "        Loss = np.sum((self.ys - t) ** 2) / 2 / t.shape[0]\n",
    "        return Loss   "
   ]
  },
  {
   "cell_type": "code",
   "execution_count": 98,
   "metadata": {},
   "outputs": [],
   "source": [
    "num_classes = 2\n",
    "img_height, img_width = 64, 64\n",
    "\n",
    "CLS = ['akahara', 'madara']"
   ]
  },
  {
   "cell_type": "code",
   "execution_count": 99,
   "metadata": {},
   "outputs": [],
   "source": [
    "# get train data\n",
    "def data_load(path, hf=False, vf=False, rot=None):\n",
    "    xs = []\n",
    "    ts = []\n",
    "    paths = []\n",
    "    \n",
    "    for dir_path in glob(path + '/*'):\n",
    "        for path in glob(dir_path + '/*'):\n",
    "            x = cv2.imread(path)\n",
    "            x = cv2.resize(x, (img_width, img_height)).astype(np.float32)\n",
    "            x /= 255.\n",
    "            x = x[..., ::-1]\n",
    "            xs.append(x)\n",
    "\n",
    "            for i, cls in enumerate(CLS):\n",
    "                if cls in path:\n",
    "                    t = i\n",
    "            \n",
    "            ts.append(t)\n",
    "\n",
    "            paths.append(path)\n",
    "\n",
    "            if hf:\n",
    "                xs.append(x[:, ::-1])\n",
    "                ts.append(t)\n",
    "                paths.append(path)\n",
    "\n",
    "            if vf:\n",
    "                xs.append(x[::-1])\n",
    "                ts.append(t)\n",
    "                paths.append(path)\n",
    "\n",
    "            if hf and vf:\n",
    "                xs.append(x[::-1, ::-1])\n",
    "                ts.append(t)\n",
    "                paths.append(path)\n",
    "\n",
    "            if rot is not None:\n",
    "                angle = rot\n",
    "                scale = 1\n",
    "\n",
    "                # show\n",
    "                a_num = 360 // rot\n",
    "                w_num = np.ceil(np.sqrt(a_num))\n",
    "                h_num = np.ceil(a_num / w_num)\n",
    "                count = 1\n",
    "                \n",
    "                while angle < 360:\n",
    "                    _h, _w, _c = x.shape\n",
    "                    max_side = max(_h, _w)\n",
    "                    tmp = np.zeros((max_side, max_side, _c))\n",
    "                    tx = int((max_side - _w) / 2)\n",
    "                    ty = int((max_side - _h) / 2)\n",
    "                    tmp[ty: ty+_h, tx: tx+_w] = x.copy()\n",
    "                    M = cv2.getRotationMatrix2D((max_side/2, max_side/2), angle, scale)\n",
    "                    _x = cv2.warpAffine(tmp, M, (max_side, max_side))\n",
    "                    _x = _x[tx:tx+_w, ty:ty+_h]\n",
    "                    xs.append(x)\n",
    "                    ts.append(t)\n",
    "                    paths.append(path)\n",
    "                    angle += rot\n",
    "\n",
    "    ts = [[t] for t in ts]\n",
    "                    \n",
    "    xs = np.array(xs, dtype=np.float32)\n",
    "    ts = np.array(ts, dtype=np.int)\n",
    "    \n",
    "    xs = xs.transpose(0,3,1,2)\n",
    "\n",
    "    return xs, ts, paths"
   ]
  },
  {
   "cell_type": "code",
   "execution_count": 100,
   "metadata": {},
   "outputs": [],
   "source": [
    "model = Model(FullyConnectedLayer(in_n=img_height * img_width * 3, out_n=64, activation=sigmoid),\n",
    "              FullyConnectedLayer(in_n=64, out_n=32, activation=sigmoid),\n",
    "              FullyConnectedLayer(in_n=32, out_n=1, activation=sigmoid), lr=0.1)"
   ]
  },
  {
   "cell_type": "code",
   "execution_count": 101,
   "metadata": {},
   "outputs": [],
   "source": [
    "xs, ts, paths = data_load(\"Dataset/train/images/\", hf=True, vf=True, rot=1)"
   ]
  },
  {
   "cell_type": "code",
   "execution_count": 102,
   "metadata": {},
   "outputs": [],
   "source": [
    "mb = 64\n",
    "mbi = 0\n",
    "train_ind = np.arange(len(xs))\n",
    "np.random.shuffle(train_ind)"
   ]
  },
  {
   "cell_type": "code",
   "execution_count": 103,
   "metadata": {},
   "outputs": [
    {
     "name": "stdout",
     "output_type": "stream",
     "text": [
      "ite: 1 Loss >> 0.21352740372282433\n",
      "ite: 51 Loss >> 0.009437671088643011\n",
      "ite: 101 Loss >> 0.005869995744625613\n",
      "ite: 151 Loss >> 0.004181180016093243\n",
      "ite: 201 Loss >> 0.0030237996730212184\n",
      "ite: 251 Loss >> 0.009818056301096513\n",
      "ite: 301 Loss >> 0.008624463963603394\n",
      "ite: 351 Loss >> 0.0017459336562101223\n",
      "ite: 401 Loss >> 0.0031621349939443787\n",
      "ite: 451 Loss >> 0.0015597370422339187\n",
      "ite: 501 Loss >> 0.0014936561981282737\n",
      "ite: 551 Loss >> 0.0013149378987216162\n",
      "ite: 601 Loss >> 0.0017548737235955\n",
      "ite: 651 Loss >> 0.008893150163254178\n",
      "ite: 701 Loss >> 0.0010882634046149725\n",
      "ite: 751 Loss >> 0.0011825437126263651\n",
      "ite: 801 Loss >> 0.001204520596524986\n",
      "ite: 851 Loss >> 0.001082104480260695\n",
      "ite: 901 Loss >> 0.0010884577946439235\n",
      "ite: 951 Loss >> 0.0009649387007242976\n"
     ]
    }
   ],
   "source": [
    "for ite in range(1000):\n",
    "    if mbi + mb > len(xs):\n",
    "        mb_ind = train_ind[mbi:]\n",
    "        np.random.shuffle(train_ind)\n",
    "        mb_ind = np.hstack((mb_ind, train_ind[:(mb-(len(xs)-mbi))]))\n",
    "        mbi = mb - (len(xs) - mbi)\n",
    "    else:\n",
    "        mb_ind = train_ind[mbi: mbi+mb]\n",
    "        mbi += mb\n",
    "\n",
    "    x = xs[mb_ind]\n",
    "    t = ts[mb_ind]\n",
    "\n",
    "    x = x.reshape(mb, -1)\n",
    "\n",
    "    model.forward(x)\n",
    "    model.backward(t)\n",
    "    loss = model.loss(t)\n",
    "\n",
    "    if ite % 50 == 0:\n",
    "        print(\"ite:\", ite+1, \"Loss >>\", loss)"
   ]
  },
  {
   "cell_type": "code",
   "execution_count": 104,
   "metadata": {},
   "outputs": [
    {
     "name": "stdout",
     "output_type": "stream",
     "text": [
      "in >> Dataset/test/images/akahara/akahara_0009.jpg , out >> [[0.42357736]]\n",
      "in >> Dataset/test/images/akahara/akahara_0010.jpg , out >> [[0.18002142]]\n",
      "in >> Dataset/test/images/akahara/akahara_0011.jpg , out >> [[0.36873427]]\n",
      "in >> Dataset/test/images/madara/madara_0010.jpg , out >> [[0.22497696]]\n",
      "in >> Dataset/test/images/madara/madara_0009.jpg , out >> [[0.12101534]]\n",
      "in >> Dataset/test/images/madara/madara_0011.jpg , out >> [[0.93109881]]\n"
     ]
    }
   ],
   "source": [
    "# test\n",
    "xs, ts, paths = data_load(\"Dataset/test/images/\")\n",
    "\n",
    "for i in range(len(xs)):\n",
    "    x = xs[i]\n",
    "    x = x.reshape(1, -1)\n",
    "    out = model.forward(x)\n",
    "    print(\"in >>\", paths[i], \", out >>\", out)"
   ]
  },
  {
   "cell_type": "code",
   "execution_count": null,
   "metadata": {},
   "outputs": [],
   "source": []
  }
 ],
 "metadata": {
  "jupytext": {
   "text_representation": {
    "extension": ".py",
    "format_name": "light",
    "format_version": "1.5",
    "jupytext_version": "1.3.0"
   }
  },
  "kernelspec": {
   "display_name": "Python 3",
   "language": "python",
   "name": "python3"
  },
  "language_info": {
   "codemirror_mode": {
    "name": "ipython",
    "version": 3
   },
   "file_extension": ".py",
   "mimetype": "text/x-python",
   "name": "python",
   "nbconvert_exporter": "python",
   "pygments_lexer": "ipython3",
   "version": "3.7.5"
  }
 },
 "nbformat": 4,
 "nbformat_minor": 4
}
