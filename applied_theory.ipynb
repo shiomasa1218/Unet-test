{
 "cells": [
  {
   "cell_type": "markdown",
   "metadata": {},
   "source": [
    "### image recognization"
   ]
  },
  {
   "cell_type": "code",
   "execution_count": null,
   "metadata": {},
   "outputs": [],
   "source": [
    "import numpy as np\n",
    "import pdb\n",
    "np.random.seed(0)\n",
    "xs = np.array([[0,0],[0,1],[1,0],[1,1]],dtype=np.float32)\n",
    "ts = np.array([[0],[1],[1],[0]],dtype=np.float32)"
   ]
  },
  {
   "cell_type": "code",
   "execution_count": null,
   "metadata": {},
   "outputs": [],
   "source": [
    "def sigmoid(x):\n",
    "    return 1/(1+np.exp(-1*x))"
   ]
  },
  {
   "cell_type": "code",
   "execution_count": null,
   "metadata": {},
   "outputs": [],
   "source": [
    "class FullyConnectedLayer():\n",
    "    def __init__(self, in_n, out_n, use_bias=True, activation=None):\n",
    "        self.w = np.random.normal(0,1,[in_n,out_n])\n",
    "        if use_bias:\n",
    "            self.b = np.random.normal(0,1,[out_n])\n",
    "        else:\n",
    "            self.b = None\n",
    "        if activation is not None:\n",
    "            self.activation = activation\n",
    "        else:\n",
    "            self.activation = None\n",
    "    \n",
    "    def set_lr(self, lr=0.1):\n",
    "        self.lr = lr\n",
    "        \n",
    "    def forward(self, feature_in):\n",
    "        self.f_in = feature_in\n",
    "#         pdb.set_trace()\n",
    "        tmp = np.dot(feature_in,self.w)\n",
    "        \n",
    "        if self.b is not None:\n",
    "            tmp += self.b\n",
    "        if self.activation is not None:\n",
    "            tmp = self.activation(tmp)\n",
    "        \n",
    "        self.ys = tmp\n",
    "        return tmp\n",
    "        \n",
    "    def backward(self, w_pro, grad_pro):\n",
    "#         pdb.set_trace()\n",
    "        grad_u = np.dot(grad_pro,w_pro.T)\n",
    "        if self.activation is sigmoid:\n",
    "            grad_u *= (self.ys * (1-self.ys))\n",
    "        grad_w = np.dot(self.f_in.T, grad_u)\n",
    "        self.w -= self.lr*grad_w\n",
    "        \n",
    "        if self.b is not None:\n",
    "            grad_b = np.dot(np.ones([grad_u.shape[0]]), grad_u)\n",
    "            self.b -= self.lr*grad_b\n",
    "        \n",
    "        return grad_u\n",
    "    \n",
    "class Model():\n",
    "    def __init__(self, *args, lr=0.1):\n",
    "        self.layers = args\n",
    "        for l in self.layers:\n",
    "            l.set_lr(lr=lr)\n",
    "    \n",
    "    def forward(self,x):\n",
    "        for l in self.layers:\n",
    "            x = l.forward(x)\n",
    "        self.ys = x\n",
    "        return x\n",
    "        \n",
    "    def backward(self,t):\n",
    "        En = -(t-self.ys)*self.ys*(1-self.ys)\n",
    "        grad_pro = En\n",
    "        ## referensed answer  \n",
    "        w_pro = np.eye(En.shape[-1])\n",
    "        ##\n",
    "        for l in self.layers[::-1]:\n",
    "            grad_pro = l.backward(w_pro=w_pro,grad_pro=grad_pro)\n",
    "            w_pro = l.w"
   ]
  },
  {
   "cell_type": "code",
   "execution_count": null,
   "metadata": {},
   "outputs": [],
   "source": [
    "model = Model(FullyConnectedLayer(in_n=2, out_n=64,activation= sigmoid),\n",
    "              FullyConnectedLayer(in_n=64, out_n=32,activation= sigmoid),\n",
    "              FullyConnectedLayer(in_n=32, out_n=1,activation= sigmoid))"
   ]
  }
 ],
 "metadata": {
  "jupytext": {
   "text_representation": {
    "extension": ".py",
    "format_name": "light",
    "format_version": "1.5",
    "jupytext_version": "1.3.0"
   }
  },
  "kernelspec": {
   "display_name": "Python 3",
   "language": "python",
   "name": "python3"
  },
  "language_info": {
   "codemirror_mode": {
    "name": "ipython",
    "version": 3
   },
   "file_extension": ".py",
   "mimetype": "text/x-python",
   "name": "python",
   "nbconvert_exporter": "python",
   "pygments_lexer": "ipython3",
   "version": "3.7.5"
  }
 },
 "nbformat": 4,
 "nbformat_minor": 4
}
