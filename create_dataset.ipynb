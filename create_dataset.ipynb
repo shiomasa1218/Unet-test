{
 "cells": [
  {
   "cell_type": "code",
   "execution_count": 3,
   "metadata": {},
   "outputs": [],
   "source": [
    "import cv2\n",
    "import numpy as np\n",
    "from glob import glob\n",
    "import pdb\n",
    "import copy\n",
    "\n",
    "np.random.seed(0)\n",
    "\n",
    "num_classes = 2\n",
    "img_height, img_width = 64, 64\n",
    "\n",
    "CLS = ['akahara', 'madara']\n",
    "\n",
    "# get train data\n",
    "def data_load(path):\n",
    "    xs = []\n",
    "    ts = []\n",
    "    paths = []\n",
    "    \n",
    "    for dir_path in glob(path + '/*'):\n",
    "        for path in glob(dir_path + '/*'):\n",
    "            x = cv2.imread(path)\n",
    "            x = cv2.resize(x, (img_width, img_height)).astype(np.float32)\n",
    "            x /= 255.\n",
    "            xs.append(x)\n",
    "\n",
    "            for i, cls in enumerate(CLS):\n",
    "                if cls in path:\n",
    "                    t = i\n",
    "            \n",
    "            ts.append(t)\n",
    "\n",
    "            paths.append(path)\n",
    "\n",
    "    xs = np.array(xs, dtype=np.float32)\n",
    "    ts = np.array(ts, dtype=np.int)\n",
    "#     pdb.set_trace()\n",
    "    xs = xs.transpose(0,3,1,2)\n",
    "\n",
    "    return xs, ts, paths\n",
    "\n",
    "xs, ts, paths = data_load(\"Dataset/train/images/\")"
   ]
  },
  {
   "cell_type": "code",
   "execution_count": 4,
   "metadata": {},
   "outputs": [
    {
     "name": "stdout",
     "output_type": "stream",
     "text": [
      "/home/m-shiota/projects/MICRESEARCH/testscripts/Unet-test\n"
     ]
    }
   ],
   "source": [
    "!pwd"
   ]
  },
  {
   "cell_type": "code",
   "execution_count": 5,
   "metadata": {},
   "outputs": [
    {
     "name": "stdout",
     "output_type": "stream",
     "text": [
      "[1 6 8]\n",
      "[ 9 13  4]\n",
      "[ 2 14 10]\n",
      "[ 7 15 11]\n",
      "[3 0 5]\n",
      "[12  8  5]\n",
      "[3 7 1]\n",
      "[ 9 13 15]\n",
      "[11  4 12]\n",
      "[10  0 14]\n"
     ]
    }
   ],
   "source": [
    "mb = 3\n",
    "mbi = 0\n",
    "train_ind = np.arange(len(xs))\n",
    "np.random.seed(0)\n",
    "np.random.shuffle(train_ind)\n",
    "\n",
    "for i in range(10):\n",
    "    if mbi + mb > len(xs):\n",
    "        mb_ind = copy.copy(train_ind)[mbi:]\n",
    "        np.random.shuffle(train_ind)\n",
    "        mb_ind = np.hstack((mb_ind, train_ind[:(mb-(len(xs)-mbi))]))\n",
    "        mbi = mb - (len(xs) - mbi)\n",
    "    else:\n",
    "        mb_ind = train_ind[mbi: mbi+mb]\n",
    "        mbi += mb\n",
    "\n",
    "    print(mb_ind)"
   ]
  },
  {
   "cell_type": "code",
   "execution_count": null,
   "metadata": {},
   "outputs": [],
   "source": []
  }
 ],
 "metadata": {
  "jupytext": {
   "text_representation": {
    "extension": ".py",
    "format_name": "light",
    "format_version": "1.5",
    "jupytext_version": "1.3.0"
   }
  },
  "kernelspec": {
   "display_name": "Python 3",
   "language": "python",
   "name": "python3"
  },
  "language_info": {
   "codemirror_mode": {
    "name": "ipython",
    "version": 3
   },
   "file_extension": ".py",
   "mimetype": "text/x-python",
   "name": "python",
   "nbconvert_exporter": "python",
   "pygments_lexer": "ipython3",
   "version": "3.7.5"
  }
 },
 "nbformat": 4,
 "nbformat_minor": 4
}
